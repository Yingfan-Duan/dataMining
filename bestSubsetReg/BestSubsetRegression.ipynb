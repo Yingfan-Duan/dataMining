{
 "cells": [
  {
   "cell_type": "code",
   "execution_count": 1,
   "metadata": {
    "ExecuteTime": {
     "end_time": "2020-03-17T14:32:19.400992Z",
     "start_time": "2020-03-17T14:32:19.192043Z"
    }
   },
   "outputs": [],
   "source": [
    "import numpy as np\n",
    "from scipy import linalg\n",
    "\n",
    "def solve_sym(xtx, xty):\n",
    "    L = linalg.cholesky(xtx)\n",
    "    return linalg.lapack.dpotrs(L, xty)[0]\n",
    "\n",
    "def turnbits_rec(p):\n",
    "    # turnbits_rec函数用于将[0,2^p-1]中的整数转化为(2^p)*p维逻辑矩阵\n",
    "    # 输出(2^p)*p维逻辑矩阵\n",
    "    if(p==1):\n",
    "        return np.array([[True, False],[True, True]])\n",
    "    else:\n",
    "        tmp1 = np.c_[turnbits_rec(p-1), np.array([False]*(2**(p-1))).reshape((2**(p-1),1))]\n",
    "        tmp2 = np.c_[turnbits_rec(p-1), np.array([True]*(2**(p-1))).reshape((2**(p-1),1))]\n",
    "        return np.r_[tmp1, tmp2]\n",
    "\n",
    "class BestSubsetReg(object):\n",
    "    \n",
    "    def __init__(self, x, y, names=None, intercept=True, isCp=True, isAIC=True, isCV=True):\n",
    "        self.n, self.p=x.shape\n",
    "        \n",
    "        if intercept:\n",
    "            self.x = np.c_[(np.ones((self.n,1)),x)]\n",
    "            self.ind_var = turnbits_rec(self.p)\n",
    "        else:\n",
    "            self.x = x\n",
    "            self.ind_var = turnbits_rec(self.p)[1:][:,1:]\n",
    "        \n",
    "        self.isCp=isCp\n",
    "        self.isAIC=isAIC\n",
    "        self.isCV=isCV\n",
    "        self.y=y\n",
    "        self.xtx = np.dot(self.x.T, self.x)\n",
    "        self.xty = np.dot(self.x.T, self.y)\n",
    "        self.shape = [self.xtx.shape, self.xty.shape]\n",
    "        self.b = []\n",
    "        self.names = names\n",
    "        self.intercept = intercept\n",
    "        \n",
    "    def reg(self):\n",
    "        # get regression parameters\n",
    "        self.b = [solve_sym(self.xtx[ind][:,ind], self.xty[ind]) \n",
    "                  for ind in self.ind_var]\n",
    "\n",
    "    def Cp_AIC(self):\n",
    "        RSS = np.dot(self.y, self.y) - [np.sum(np.dot(self.xtx[ind][:, ind], b_) * b_) for ind, b_ in zip(self.ind_var, self.b)]\n",
    "        \n",
    "        d = np.sum(self.ind_var, axis=1)\n",
    "        \n",
    "        if(self.isCp):\n",
    "            self.Cp = RSS/self.n+2*d*RSS[-1]/self.n/(self.n-self.p-1)\n",
    "        if(self.isAIC):\n",
    "            self.AIC = self.n*np.log(RSS)+2*d\n",
    "\n",
    "    def KfoldCV(self):\n",
    "        K = 10\n",
    "        # get the indexs controlling which samples used as train or test\n",
    "        indexs = np.array_split(np.random.permutation(np.arange(0,self.n)), K)\n",
    "\n",
    "        def cv(ind, index):\n",
    "            txx = self.xtx[ind][:,ind]-np.dot((self.x[index][:,ind].T), \n",
    "                                              self.x[index][:,ind])\n",
    "            txy = self.xty[ind]-np.dot((self.x[index][:,ind]).T,\n",
    "                                       self.y[index])\n",
    "            tcoe = solve_sym(txx, txy)\n",
    "            return np.sum((self.y[index]-np.dot(self.x[index][:,ind,], tcoe))**2)\n",
    "        \n",
    "        self.CV = np.sum(np.array([[cv(ind, index) for ind in self.ind_var] for index in indexs]), axis=1)/self.n\n",
    "    \n",
    "    def output(self):\n",
    "        def getVars(min_id):\n",
    "            if self.intercept:\n",
    "                self.xnames = self.names[:-1][self.ind_var[min_id][1:]]\n",
    "                return(dict(zip(np.append([\"intercept\"],self.xnames), self.b[min_id])))\n",
    "            else:\n",
    "                self.xnames = self.names[:-1][self.ind_var[min_id]]\n",
    "                return(dict(zip(self.xnames, self.b[min_id])))\n",
    "            \n",
    "        if(self.isCp | self.isAIC):\n",
    "            self.Cp_AIC()\n",
    "            if(self.isCp):\n",
    "                min_id = np.argmin(self.Cp)\n",
    "                print('Based on Cp criterion:\\n',getVars(min_id),'\\n')\n",
    "            if(self.isAIC):\n",
    "                min_id = np.argmin(self.AIC)\n",
    "                print('Based on AIC criterion:\\n',getVars(min_id),'\\n')\n",
    "        \n",
    "        if(self.isCV):\n",
    "            self.KfoldCV()\n",
    "            min_id = np.argmin(self.CV)\n",
    "            print('Based on K-fold CV:\\n', getVars(min_id),'\\n')\n",
    "            \n",
    "            "
   ]
  },
  {
   "cell_type": "code",
   "execution_count": 2,
   "metadata": {
    "ExecuteTime": {
     "end_time": "2020-03-17T14:32:21.254052Z",
     "start_time": "2020-03-17T14:32:21.242083Z"
    }
   },
   "outputs": [],
   "source": [
    "import os\n",
    "import sys\n",
    "os.chdir(\"F:/dataMining/bestSubsetRegression/\")\n",
    "x = np.loadtxt(\"./prostate/x.txt\", delimiter=\",\")  # loadtxt读入时默认按浮点数读入\n",
    "y = np.loadtxt(\"./prostate/y.txt\", delimiter=\",\")\n",
    "names = np.loadtxt(\"./prostate/names.txt\", delimiter=\",\", dtype=str)"
   ]
  },
  {
   "cell_type": "code",
   "execution_count": 3,
   "metadata": {
    "ExecuteTime": {
     "end_time": "2020-03-17T14:32:22.281924Z",
     "start_time": "2020-03-17T14:32:22.093488Z"
    }
   },
   "outputs": [
    {
     "name": "stdout",
     "output_type": "stream",
     "text": [
      "Based on Cp criterion:\n",
      " {'lcavol': 0.5366738654247857, 'lweight': 0.6617418729949114, 'age': -0.012715720491074497, 'lbph': 0.08501231817270544, 'svi': 0.705686464638664} \n",
      "\n",
      "Based on AIC criterion:\n",
      " {'lcavol': 0.5366738654247857, 'lweight': 0.6617418729949114, 'age': -0.012715720491074497, 'lbph': 0.08501231817270544, 'svi': 0.705686464638664} \n",
      "\n",
      "Based on K-fold CV:\n",
      " {'lcavol': 1.3475441756687248, 'lbph': 0.14418349162765542} \n",
      "\n"
     ]
    }
   ],
   "source": [
    "# test\n",
    "reg1 = BestSubsetReg(x, y, names, intercept=False)\n",
    "reg1.reg()\n",
    "reg1.output()"
   ]
  },
  {
   "cell_type": "code",
   "execution_count": null,
   "metadata": {},
   "outputs": [],
   "source": []
  }
 ],
 "metadata": {
  "kernelspec": {
   "display_name": "Python 3",
   "language": "python",
   "name": "python3"
  },
  "language_info": {
   "codemirror_mode": {
    "name": "ipython",
    "version": 3
   },
   "file_extension": ".py",
   "mimetype": "text/x-python",
   "name": "python",
   "nbconvert_exporter": "python",
   "pygments_lexer": "ipython3",
   "version": "3.7.4"
  },
  "varInspector": {
   "cols": {
    "lenName": 16,
    "lenType": 16,
    "lenVar": 40
   },
   "kernels_config": {
    "python": {
     "delete_cmd_postfix": "",
     "delete_cmd_prefix": "del ",
     "library": "var_list.py",
     "varRefreshCmd": "print(var_dic_list())"
    },
    "r": {
     "delete_cmd_postfix": ") ",
     "delete_cmd_prefix": "rm(",
     "library": "var_list.r",
     "varRefreshCmd": "cat(var_dic_list()) "
    }
   },
   "types_to_exclude": [
    "module",
    "function",
    "builtin_function_or_method",
    "instance",
    "_Feature"
   ],
   "window_display": false
  }
 },
 "nbformat": 4,
 "nbformat_minor": 2
}
